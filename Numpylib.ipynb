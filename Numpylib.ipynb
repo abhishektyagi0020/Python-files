{
  "nbformat": 4,
  "nbformat_minor": 0,
  "metadata": {
    "colab": {
      "provenance": [],
      "toc_visible": true,
      "authorship_tag": "ABX9TyNwl+Yx2so5Q0uB/eq5JUV5",
      "include_colab_link": true
    },
    "kernelspec": {
      "name": "python3",
      "display_name": "Python 3"
    },
    "language_info": {
      "name": "python"
    }
  },
  "cells": [
    {
      "cell_type": "markdown",
      "metadata": {
        "id": "view-in-github",
        "colab_type": "text"
      },
      "source": [
        "<a href=\"https://colab.research.google.com/github/abhishektyagi0020/Python-files/blob/main/Numpylib.ipynb\" target=\"_parent\"><img src=\"https://colab.research.google.com/assets/colab-badge.svg\" alt=\"Open In Colab\"/></a>"
      ]
    },
    {
      "cell_type": "markdown",
      "source": [
        "**NumPy**\n",
        "\n",
        "1.NumPy is a Python library.\n",
        "  It is used for working with arrays.\n",
        "  It is short for \"Numerical Python\".\n",
        "  It is used for computation and processing of single and multi dimensional array of eleme\n",
        "  Smaller memory consumption and better runtime behavior.\n",
        "\n"
      ],
      "metadata": {
        "id": "8HkuUaApJjvg"
      }
    },
    {
      "cell_type": "code",
      "execution_count": 17,
      "metadata": {
        "colab": {
          "base_uri": "https://localhost:8080/"
        },
        "id": "SrqP6ThiFgWE",
        "outputId": "f4f9d3e5-fe01-4735-f92e-5da93df0a7b8"
      },
      "outputs": [
        {
          "output_type": "stream",
          "name": "stdout",
          "text": [
            "Requirement already satisfied: numpy in /usr/local/lib/python3.10/dist-packages (1.23.5)\n"
          ]
        }
      ],
      "source": [
        "pip install numpy"
      ]
    },
    {
      "cell_type": "code",
      "source": [
        "import numpy as np #here import library numpy\n"
      ],
      "metadata": {
        "id": "AEfXxv3wF2a-"
      },
      "execution_count": 18,
      "outputs": []
    },
    {
      "cell_type": "code",
      "source": [
        "values=[102.4,.56,.675,67.78]"
      ],
      "metadata": {
        "id": "K29x4RdxF2uu"
      },
      "execution_count": 20,
      "outputs": []
    },
    {
      "cell_type": "code",
      "source": [
        "arr=np.array(values)"
      ],
      "metadata": {
        "id": "KqGMapG2H_Js"
      },
      "execution_count": 21,
      "outputs": []
    },
    {
      "cell_type": "code",
      "source": [
        "print(arr)"
      ],
      "metadata": {
        "colab": {
          "base_uri": "https://localhost:8080/"
        },
        "id": "omujOSH0IDJd",
        "outputId": "715751da-c627-4e4e-cef4-9f5383469d31"
      },
      "execution_count": 22,
      "outputs": [
        {
          "output_type": "stream",
          "name": "stdout",
          "text": [
            "[102.4     0.56    0.675  67.78 ]\n"
          ]
        }
      ]
    },
    {
      "cell_type": "code",
      "source": [
        "print(arr+200)"
      ],
      "metadata": {
        "id": "1Q3gLL1fIIF6",
        "colab": {
          "base_uri": "https://localhost:8080/"
        },
        "outputId": "f41d5ffb-8335-4a2f-befa-6c783bf61feb"
      },
      "execution_count": 23,
      "outputs": [
        {
          "output_type": "stream",
          "name": "stdout",
          "text": [
            "[302.4   200.56  200.675 267.78 ]\n"
          ]
        }
      ]
    },
    {
      "cell_type": "code",
      "source": [
        "a=np.array([10,23,45])\n",
        "#array create using library of numpy"
      ],
      "metadata": {
        "id": "az4iwwHXILJc"
      },
      "execution_count": 24,
      "outputs": []
    },
    {
      "cell_type": "code",
      "source": [
        "print(a)"
      ],
      "metadata": {
        "id": "ohRQPwChLaIa",
        "colab": {
          "base_uri": "https://localhost:8080/"
        },
        "outputId": "3b82ec46-8a56-4bba-d162-1e689e8d01cf"
      },
      "execution_count": 25,
      "outputs": [
        {
          "output_type": "stream",
          "name": "stdout",
          "text": [
            "[10 23 45]\n"
          ]
        }
      ]
    },
    {
      "cell_type": "code",
      "source": [
        "#create 2d array\n",
        "b = np.array([[1, 2, 3], [4, 5, 6]])\n",
        "print(b)\n"
      ],
      "metadata": {
        "id": "_27V8nQfL6Zg",
        "colab": {
          "base_uri": "https://localhost:8080/"
        },
        "outputId": "d217d51a-55fe-4348-8897-bbbbb229bfcf"
      },
      "execution_count": 26,
      "outputs": [
        {
          "output_type": "stream",
          "name": "stdout",
          "text": [
            "[[1 2 3]\n",
            " [4 5 6]]\n"
          ]
        }
      ]
    },
    {
      "cell_type": "code",
      "source": [
        "#if mentioned array datatypes str= string , float, int\n",
        "b = np.array([[1, 2, 3], [4, 5, 6]], dtype=str)\n",
        "print(b)\n"
      ],
      "metadata": {
        "id": "EJK7_LvtQdO_",
        "colab": {
          "base_uri": "https://localhost:8080/"
        },
        "outputId": "1bda7047-c479-40f6-b4fa-c55023549930"
      },
      "execution_count": 27,
      "outputs": [
        {
          "output_type": "stream",
          "name": "stdout",
          "text": [
            "[['1' '2' '3']\n",
            " ['4' '5' '6']]\n"
          ]
        }
      ]
    },
    {
      "cell_type": "code",
      "source": [
        "type(b) #just check array types"
      ],
      "metadata": {
        "id": "AlcDbu-AQrs0",
        "colab": {
          "base_uri": "https://localhost:8080/"
        },
        "outputId": "550b74e0-fa82-4604-d93a-6f423dc12b06"
      },
      "execution_count": 28,
      "outputs": [
        {
          "output_type": "execute_result",
          "data": {
            "text/plain": [
              "numpy.ndarray"
            ]
          },
          "metadata": {},
          "execution_count": 28
        }
      ]
    },
    {
      "cell_type": "code",
      "source": [
        "len(b) #length showsrows int array or element s\n"
      ],
      "metadata": {
        "id": "iRspr-V_QxfK",
        "colab": {
          "base_uri": "https://localhost:8080/"
        },
        "outputId": "d1ee1e83-36f4-45e7-c06e-142e22160bf4"
      },
      "execution_count": 29,
      "outputs": [
        {
          "output_type": "execute_result",
          "data": {
            "text/plain": [
              "2"
            ]
          },
          "metadata": {},
          "execution_count": 29
        }
      ]
    },
    {
      "cell_type": "code",
      "source": [
        "# 3d array\n",
        "c=np.array([[1,2,3], [4,5,6], [7,8,9]], dtype=int)"
      ],
      "metadata": {
        "id": "OS7hqD6oRK1_"
      },
      "execution_count": 30,
      "outputs": []
    },
    {
      "cell_type": "code",
      "source": [
        "print(c)"
      ],
      "metadata": {
        "id": "DrTRGYHpSBFl",
        "colab": {
          "base_uri": "https://localhost:8080/"
        },
        "outputId": "05ed0dab-8e7b-429e-9d37-a6b6351e0953"
      },
      "execution_count": 31,
      "outputs": [
        {
          "output_type": "stream",
          "name": "stdout",
          "text": [
            "[[1 2 3]\n",
            " [4 5 6]\n",
            " [7 8 9]]\n"
          ]
        }
      ]
    },
    {
      "cell_type": "code",
      "source": [
        "#check dimesnssion of array -> arrayname.ndim\n",
        "c.ndim"
      ],
      "metadata": {
        "id": "VZLXR90zSOxJ",
        "colab": {
          "base_uri": "https://localhost:8080/"
        },
        "outputId": "aaed30ef-dc25-4ad7-c0f4-49288ff54ecc"
      },
      "execution_count": 32,
      "outputs": [
        {
          "output_type": "execute_result",
          "data": {
            "text/plain": [
              "2"
            ]
          },
          "metadata": {},
          "execution_count": 32
        }
      ]
    },
    {
      "cell_type": "markdown",
      "source": [
        "Why Use NumPy?\n",
        "\n",
        "   In Traditional Python Programming, we have lists that serve the purpose of arrays, but they are slow to process.\n",
        "   NumPy aims to provide an array object that is up to 50x faster than traditional Python lists.\n",
        "   The array object in NumPy is called ndarray, it provides a lot of supporting functions that make working with indarray ver\n",
        "   easy.\n",
        "   Arrays are very frequently used in data science, where speed and resources are very important.\n"
      ],
      "metadata": {
        "id": "WL7m7oN2nScr"
      }
    },
    {
      "cell_type": "code",
      "source": [
        "c.shape # shape check row or column in matrix or array"
      ],
      "metadata": {
        "id": "QrEEkL58SUd_",
        "colab": {
          "base_uri": "https://localhost:8080/"
        },
        "outputId": "0d4d3b1f-ee4e-4b66-b591-20866e60d57b"
      },
      "execution_count": 33,
      "outputs": [
        {
          "output_type": "execute_result",
          "data": {
            "text/plain": [
              "(3, 3)"
            ]
          },
          "metadata": {},
          "execution_count": 33
        }
      ]
    },
    {
      "cell_type": "code",
      "source": [
        "c.dtype\n"
      ],
      "metadata": {
        "id": "zgO3F5dDnCsq",
        "colab": {
          "base_uri": "https://localhost:8080/"
        },
        "outputId": "4b2600ec-ddab-475d-fbba-90400d7c9ffc"
      },
      "execution_count": 34,
      "outputs": [
        {
          "output_type": "execute_result",
          "data": {
            "text/plain": [
              "dtype('int64')"
            ]
          },
          "metadata": {},
          "execution_count": 34
        }
      ]
    },
    {
      "cell_type": "code",
      "source": [],
      "metadata": {
        "id": "Ywa4DdAr5zw6"
      },
      "execution_count": null,
      "outputs": []
    }
  ]
}